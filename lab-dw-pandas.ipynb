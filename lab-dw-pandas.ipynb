{
 "cells": [
  {
   "cell_type": "markdown",
   "id": "25d7736c-ba17-4aff-b6bb-66eba20fbf4e",
   "metadata": {},
   "source": [
    "# Lab | Pandas"
   ]
  },
  {
   "cell_type": "markdown",
   "id": "d1973e9e-8be6-4039-b70e-d73ee0d94c99",
   "metadata": {},
   "source": [
    "In this lab, we will be working with the customer data from an insurance company, which can be found in the CSV file located at the following link: https://raw.githubusercontent.com/data-bootcamp-v4/data/main/file1.csv\n",
    "\n",
    "The data includes information such as customer ID, state, gender, education, income, and other variables that can be used to perform various analyses.\n",
    "\n",
    "Throughout the lab, we will be using the pandas library in Python to manipulate and analyze the data. Pandas is a powerful library that provides various data manipulation and analysis tools, including the ability to load and manipulate data from a variety of sources, including CSV files."
   ]
  },
  {
   "cell_type": "markdown",
   "id": "8045146f-f4f7-44d9-8cd9-130d6400c73a",
   "metadata": {},
   "source": [
    "### Data Description\n",
    "\n",
    "- Customer - Customer ID\n",
    "\n",
    "- ST - State where customers live\n",
    "\n",
    "- Gender - Gender of the customer\n",
    "\n",
    "- Education - Background education of customers \n",
    "\n",
    "- Customer Lifetime Value - Customer lifetime value(CLV) is the total revenue the client will derive from their entire relationship with a customer. In other words, is the predicted or calculated value of a customer over their entire duration as a policyholder with the insurance company. It is an estimation of the net profit that the insurance company expects to generate from a customer throughout their relationship with the company. Customer Lifetime Value takes into account factors such as the duration of the customer's policy, premium payments, claim history, renewal likelihood, and potential additional services or products the customer may purchase. It helps insurers assess the long-term profitability and value associated with retaining a particular customer.\n",
    "\n",
    "- Income - Customers income\n",
    "\n",
    "- Monthly Premium Auto - Amount of money the customer pays on a monthly basis as a premium for their auto insurance coverage. It represents the recurring cost that the insured person must pay to maintain their insurance policy and receive coverage for potential damages, accidents, or other covered events related to their vehicle.\n",
    "\n",
    "- Number of Open Complaints - Number of complaints the customer opened\n",
    "\n",
    "- Policy Type - There are three type of policies in car insurance (Corporate Auto, Personal Auto, and Special Auto)\n",
    "\n",
    "- Vehicle Class - Type of vehicle classes that customers have Two-Door Car, Four-Door Car SUV, Luxury SUV, Sports Car, and Luxury Car\n",
    "\n",
    "- Total Claim Amount - the sum of all claims made by the customer. It represents the total monetary value of all approved claims for incidents such as accidents, theft, vandalism, or other covered events.\n"
   ]
  },
  {
   "cell_type": "markdown",
   "id": "3a72419b-20fc-4905-817a-8c83abc59de6",
   "metadata": {},
   "source": [
    "External Resources: https://towardsdatascience.com/filtering-data-frames-in-pandas-b570b1f834b9"
   ]
  },
  {
   "cell_type": "markdown",
   "id": "8f8ece17-e919-4e23-96c0-c7c59778436a",
   "metadata": {},
   "source": [
    "## Challenge 1: Understanding the data\n",
    "\n",
    "In this challenge, you will use pandas to explore a given dataset. Your task is to gain a deep understanding of the data by analyzing its characteristics, dimensions, and statistical properties."
   ]
  },
  {
   "cell_type": "markdown",
   "id": "91437bd5-59a6-49c0-8150-ef0e6e6eb253",
   "metadata": {},
   "source": [
    "- Identify the dimensions of the dataset by determining the number of rows and columns it contains.\n",
    "- Determine the data types of each column and evaluate whether they are appropriate for the nature of the variable. You should also provide suggestions for fixing any incorrect data types.\n",
    "- Identify the number of unique values for each column and determine which columns appear to be categorical. You should also describe the unique values of each categorical column and the range of values for numerical columns, and give your insights.\n",
    "- Compute summary statistics such as mean, median, mode, standard deviation, and quartiles to understand the central tendency and distribution of the data for numerical columns. You should also provide your conclusions based on these summary statistics.\n",
    "- Compute summary statistics for categorical columns and providing your conclusions based on these statistics."
   ]
  },
  {
   "cell_type": "code",
   "execution_count": 4,
   "id": "dd4e8cd8-a6f6-486c-a5c4-1745b0c035f4",
   "metadata": {},
   "outputs": [],
   "source": [
    "import pandas as pd\n",
    "import numpy as np\n",
    "import seaborn as sns\n",
    "\n",
    "data = pd.read_csv(\"https://raw.githubusercontent.com/data-bootcamp-v4/data/main/file1.csv\")\n",
    "data.dropna(axis=0, how=\"all\", inplace=True)"
   ]
  },
  {
   "cell_type": "markdown",
   "id": "60f1fdcf",
   "metadata": {},
   "source": [
    "Data is full of NaN rows, first we do a general cleaning using \"dropna\" the we obtain the clean dimensions of the dataframe: 1071 rows * 11 columns"
   ]
  },
  {
   "cell_type": "code",
   "execution_count": 11,
   "id": "f305f85f",
   "metadata": {},
   "outputs": [
    {
     "data": {
      "text/plain": [
       "(1071, 11)"
      ]
     },
     "execution_count": 11,
     "metadata": {},
     "output_type": "execute_result"
    }
   ],
   "source": [
    "data.shape"
   ]
  },
  {
   "cell_type": "code",
   "execution_count": 17,
   "id": "258957ab",
   "metadata": {},
   "outputs": [
    {
     "data": {
      "text/plain": [
       "Customer                      object\n",
       "ST                            object\n",
       "GENDER                        object\n",
       "Education                     object\n",
       "Customer Lifetime Value       object\n",
       "Income                       float64\n",
       "Monthly Premium Auto         float64\n",
       "Number of Open Complaints     object\n",
       "Policy Type                   object\n",
       "Vehicle Class                 object\n",
       "Total Claim Amount           float64\n",
       "dtype: object"
      ]
     },
     "execution_count": 17,
     "metadata": {},
     "output_type": "execute_result"
    }
   ],
   "source": [
    "data.dtypes"
   ]
  },
  {
   "cell_type": "markdown",
   "id": "0dd95393",
   "metadata": {},
   "source": [
    "Data Types: column \"Customer Lifetime Values\" is suggested to be numerical **float**, number of open complains as well, it should be **integer**"
   ]
  },
  {
   "cell_type": "code",
   "execution_count": 14,
   "id": "c616b54c",
   "metadata": {},
   "outputs": [
    {
     "data": {
      "text/plain": [
       "Customer                     1071\n",
       "ST                              8\n",
       "GENDER                          5\n",
       "Education                       6\n",
       "Customer Lifetime Value      1027\n",
       "Income                        774\n",
       "Monthly Premium Auto          132\n",
       "Number of Open Complaints       6\n",
       "Policy Type                     3\n",
       "Vehicle Class                   6\n",
       "Total Claim Amount            761\n",
       "dtype: int64"
      ]
     },
     "execution_count": 14,
     "metadata": {},
     "output_type": "execute_result"
    }
   ],
   "source": [
    "data.nunique()"
   ]
  },
  {
   "cell_type": "markdown",
   "id": "033496f6",
   "metadata": {},
   "source": [
    "ST, Gender, Education, Policy Type, Vehicle class are the categorical variables"
   ]
  },
  {
   "cell_type": "code",
   "execution_count": 6,
   "id": "8a252fbf",
   "metadata": {},
   "outputs": [],
   "source": [
    "#DEFINING FUNCTIONS\n",
    "\n",
    "def convert_lt_value(element):\n",
    "    if element == np.nan:\n",
    "        return np.nan\n",
    "    if type(element)==float:\n",
    "        return element\n",
    "    if element[-1] == \"%\":\n",
    "        return float(element[:-1])/100\n",
    "    \n",
    "def convert_num_complaints(element):\n",
    "    if element[2].isdigit():\n",
    "        return int(element[2])\n",
    "    else:\n",
    "        return np.nan\n",
    "\n",
    "def convert_gender(element):\n",
    "    if type(element) == float:\n",
    "        return np.nan\n",
    "    if element[0].lower() == \"f\":\n",
    "        return \"f\"\n",
    "    if element[0].lower() == \"m\":\n",
    "        return \"m\"\n",
    "    else:\n",
    "        return np.nan\n",
    "\n",
    "def convert_income(element):\n",
    "    if element == 0:\n",
    "        return np.nan\n",
    "    else:\n",
    "        return element\n",
    "    \n",
    "def convert_st(element):\n",
    "    return element[0:2].upper()\n",
    "\n",
    "def convert_edu(element):\n",
    "    if element == \"Bachelors\":\n",
    "        return \"Bachelor\"\n",
    "    return element.strip()\n"
   ]
  },
  {
   "cell_type": "code",
   "execution_count": 7,
   "id": "c5df956e",
   "metadata": {},
   "outputs": [],
   "source": [
    "#CALLING FUNCTIONS\n",
    "\n",
    "#NUMERICAL\n",
    "data[\"lt_value\"] = data[\"Customer Lifetime Value\"].apply(convert_lt_value)\n",
    "data[\"num_complaints\"] = data[\"Number of Open Complaints\"].apply(convert_num_complaints)\n",
    "data[\"income_r\"] = data[\"Income\"].apply(convert_income)\n",
    "\n",
    "\n",
    "#CATEGORICAL\n",
    "data[\"gender_r\"] = data[\"GENDER\"].apply(convert_gender)\n",
    "data[\"state_r\"] = data[\"ST\"].apply(convert_st)\n",
    "data[\"education_r\"] = data[\"Education\"].apply(convert_edu)"
   ]
  },
  {
   "cell_type": "code",
   "execution_count": 8,
   "id": "f01c258e",
   "metadata": {},
   "outputs": [],
   "source": [
    "#SELECTION OF RELEVANT COLUMNS\n",
    "#data[\"lt_value_revised\"] = float(data[\"Customer Lifetime Value\"])\n",
    "\n",
    "categorical_vars = [\"state_r\", \"gender_r\", \"education_r\", \"Policy Type\", \"Vehicle Class\" ]\n",
    "numerical_vars = [\"lt_value\", \"income_r\", \"Monthly Premium Auto\", \"Total Claim Amount\", \"num_complaints\" ]\n"
   ]
  },
  {
   "cell_type": "code",
   "execution_count": 32,
   "id": "e447177a",
   "metadata": {},
   "outputs": [
    {
     "data": {
      "text/plain": [
       "Vehicle Class\n",
       "Four-Door Car    576\n",
       "Two-Door Car     205\n",
       "SUV              199\n",
       "Sports Car        57\n",
       "Luxury SUV        20\n",
       "Luxury Car        14\n",
       "Name: count, dtype: int64"
      ]
     },
     "execution_count": 32,
     "metadata": {},
     "output_type": "execute_result"
    }
   ],
   "source": [
    "# Evaluated individually for each variable\n",
    "data[\"Vehicle Class\"].value_counts()"
   ]
  },
  {
   "cell_type": "code",
   "execution_count": 38,
   "id": "9ff46b85",
   "metadata": {},
   "outputs": [
    {
     "data": {
      "text/plain": [
       "0"
      ]
     },
     "execution_count": 38,
     "metadata": {},
     "output_type": "execute_result"
    }
   ],
   "source": [
    "# Evaluated individually for each variable\n",
    "data[\"Vehicle Class\"].isna().sum()"
   ]
  },
  {
   "cell_type": "code",
   "execution_count": 34,
   "id": "a145e3bd",
   "metadata": {},
   "outputs": [
    {
     "data": {
      "text/plain": [
       "0       Four-Door Car\n",
       "617     Four-Door Car\n",
       "618     Four-Door Car\n",
       "619     Four-Door Car\n",
       "620     Four-Door Car\n",
       "            ...      \n",
       "240      Two-Door Car\n",
       "628      Two-Door Car\n",
       "627      Two-Door Car\n",
       "99       Two-Door Car\n",
       "1070     Two-Door Car\n",
       "Name: Vehicle Class, Length: 1071, dtype: object"
      ]
     },
     "execution_count": 34,
     "metadata": {},
     "output_type": "execute_result"
    }
   ],
   "source": [
    "# Evaluated individually for each variable\n",
    "data[\"Vehicle Class\"].sort_values(ascending=True)"
   ]
  },
  {
   "cell_type": "code",
   "execution_count": 39,
   "id": "8c0752c9",
   "metadata": {},
   "outputs": [
    {
     "data": {
      "text/plain": [
       "404.98690940896364"
      ]
     },
     "execution_count": 39,
     "metadata": {},
     "output_type": "execute_result"
    }
   ],
   "source": [
    "# Evaluated individually for each variable\n",
    "data[\"Total Claim Amount\"].mean()"
   ]
  },
  {
   "cell_type": "code",
   "execution_count": 37,
   "id": "ddc50797",
   "metadata": {},
   "outputs": [
    {
     "data": {
      "text/html": [
       "<div>\n",
       "<style scoped>\n",
       "    .dataframe tbody tr th:only-of-type {\n",
       "        vertical-align: middle;\n",
       "    }\n",
       "\n",
       "    .dataframe tbody tr th {\n",
       "        vertical-align: top;\n",
       "    }\n",
       "\n",
       "    .dataframe thead th {\n",
       "        text-align: right;\n",
       "    }\n",
       "</style>\n",
       "<table border=\"1\" class=\"dataframe\">\n",
       "  <thead>\n",
       "    <tr style=\"text-align: right;\">\n",
       "      <th></th>\n",
       "      <th>lt_value</th>\n",
       "      <th>income_r</th>\n",
       "      <th>Monthly Premium Auto</th>\n",
       "      <th>Total Claim Amount</th>\n",
       "      <th>num_complaints</th>\n",
       "    </tr>\n",
       "  </thead>\n",
       "  <tbody>\n",
       "    <tr>\n",
       "      <th>count</th>\n",
       "      <td>1068.000000</td>\n",
       "      <td>819.000000</td>\n",
       "      <td>1071.000000</td>\n",
       "      <td>1071.000000</td>\n",
       "      <td>1071.000000</td>\n",
       "    </tr>\n",
       "    <tr>\n",
       "      <th>mean</th>\n",
       "      <td>7936.902593</td>\n",
       "      <td>51386.686203</td>\n",
       "      <td>193.234360</td>\n",
       "      <td>404.986909</td>\n",
       "      <td>0.394024</td>\n",
       "    </tr>\n",
       "    <tr>\n",
       "      <th>std</th>\n",
       "      <td>6434.784103</td>\n",
       "      <td>24337.568075</td>\n",
       "      <td>1601.190369</td>\n",
       "      <td>293.027260</td>\n",
       "      <td>0.883769</td>\n",
       "    </tr>\n",
       "    <tr>\n",
       "      <th>min</th>\n",
       "      <td>2004.350700</td>\n",
       "      <td>10105.000000</td>\n",
       "      <td>61.000000</td>\n",
       "      <td>0.382107</td>\n",
       "      <td>0.000000</td>\n",
       "    </tr>\n",
       "    <tr>\n",
       "      <th>25%</th>\n",
       "      <td>4034.079950</td>\n",
       "      <td>28889.000000</td>\n",
       "      <td>68.000000</td>\n",
       "      <td>202.157702</td>\n",
       "      <td>0.000000</td>\n",
       "    </tr>\n",
       "    <tr>\n",
       "      <th>50%</th>\n",
       "      <td>5881.742350</td>\n",
       "      <td>49721.000000</td>\n",
       "      <td>83.000000</td>\n",
       "      <td>354.729129</td>\n",
       "      <td>0.000000</td>\n",
       "    </tr>\n",
       "    <tr>\n",
       "      <th>75%</th>\n",
       "      <td>8962.871975</td>\n",
       "      <td>70423.500000</td>\n",
       "      <td>109.500000</td>\n",
       "      <td>532.800000</td>\n",
       "      <td>0.000000</td>\n",
       "    </tr>\n",
       "    <tr>\n",
       "      <th>max</th>\n",
       "      <td>58166.553500</td>\n",
       "      <td>99960.000000</td>\n",
       "      <td>35354.000000</td>\n",
       "      <td>2893.239678</td>\n",
       "      <td>5.000000</td>\n",
       "    </tr>\n",
       "  </tbody>\n",
       "</table>\n",
       "</div>"
      ],
      "text/plain": [
       "           lt_value      income_r  Monthly Premium Auto  Total Claim Amount  \\\n",
       "count   1068.000000    819.000000           1071.000000         1071.000000   \n",
       "mean    7936.902593  51386.686203            193.234360          404.986909   \n",
       "std     6434.784103  24337.568075           1601.190369          293.027260   \n",
       "min     2004.350700  10105.000000             61.000000            0.382107   \n",
       "25%     4034.079950  28889.000000             68.000000          202.157702   \n",
       "50%     5881.742350  49721.000000             83.000000          354.729129   \n",
       "75%     8962.871975  70423.500000            109.500000          532.800000   \n",
       "max    58166.553500  99960.000000          35354.000000         2893.239678   \n",
       "\n",
       "       num_complaints  \n",
       "count     1071.000000  \n",
       "mean         0.394024  \n",
       "std          0.883769  \n",
       "min          0.000000  \n",
       "25%          0.000000  \n",
       "50%          0.000000  \n",
       "75%          0.000000  \n",
       "max          5.000000  "
      ]
     },
     "execution_count": 37,
     "metadata": {},
     "output_type": "execute_result"
    }
   ],
   "source": [
    "data[numerical_vars].describe()"
   ]
  },
  {
   "cell_type": "code",
   "execution_count": 29,
   "id": "ff011992",
   "metadata": {},
   "outputs": [
    {
     "name": "stdout",
     "output_type": "stream",
     "text": [
      "state_r\n",
      "CA    331\n",
      "OR    320\n",
      "AR    186\n",
      "WA    111\n",
      "NE     98\n",
      "AZ     25\n",
      "Name: count, dtype: int64\n",
      "gender_r\n",
      "f    502\n",
      "m    452\n",
      "Name: count, dtype: int64\n",
      "education_r\n",
      "Bachelor                331\n",
      "College                 313\n",
      "High School or Below    296\n",
      "Master                   94\n",
      "Doctor                   37\n",
      "Name: count, dtype: int64\n",
      "Policy Type\n",
      "Personal Auto     780\n",
      "Corporate Auto    234\n",
      "Special Auto       57\n",
      "Name: count, dtype: int64\n",
      "Vehicle Class\n",
      "Four-Door Car    576\n",
      "Two-Door Car     205\n",
      "SUV              199\n",
      "Sports Car        57\n",
      "Luxury SUV        20\n",
      "Luxury Car        14\n",
      "Name: count, dtype: int64\n"
     ]
    }
   ],
   "source": [
    "for var in categorical_vars:\n",
    "    print(data[var].value_counts())"
   ]
  },
  {
   "cell_type": "markdown",
   "id": "4a703890-63db-4944-b7ab-95a4f8185120",
   "metadata": {},
   "source": [
    "## Challenge 2: analyzing the data"
   ]
  },
  {
   "cell_type": "markdown",
   "id": "0776a403-c56a-452f-ac33-5fd4fdb06fc7",
   "metadata": {},
   "source": [
    "### Exercise 1"
   ]
  },
  {
   "cell_type": "markdown",
   "id": "eedbc484-da4d-4f9c-9343-e1d44311a87e",
   "metadata": {},
   "source": [
    "The marketing team wants to know the top 5 less common customer locations. Create a pandas Series object that contains the customer locations and their frequencies, and then retrieve the top 5 less common locations in ascending order."
   ]
  },
  {
   "cell_type": "code",
   "execution_count": 15,
   "id": "ef716b54",
   "metadata": {},
   "outputs": [
    {
     "data": {
      "text/plain": [
       "Index(['Customer', 'ST', 'GENDER', 'Education', 'Customer Lifetime Value',\n",
       "       'Income', 'Monthly Premium Auto', 'Number of Open Complaints',\n",
       "       'Policy Type', 'Vehicle Class', 'Total Claim Amount', 'lt_value',\n",
       "       'num_complaints', 'income_r', 'gender_r', 'state_r', 'education_r'],\n",
       "      dtype='object')"
      ]
     },
     "execution_count": 15,
     "metadata": {},
     "output_type": "execute_result"
    }
   ],
   "source": [
    "data.columns"
   ]
  },
  {
   "cell_type": "code",
   "execution_count": 14,
   "id": "2dca5073-4520-4f42-9390-4b92733284ed",
   "metadata": {},
   "outputs": [
    {
     "data": {
      "text/plain": [
       "state_r\n",
       "AZ     25\n",
       "NE     98\n",
       "WA    111\n",
       "AR    186\n",
       "OR    320\n",
       "CA    331\n",
       "Name: count, dtype: int64"
      ]
     },
     "execution_count": 14,
     "metadata": {},
     "output_type": "execute_result"
    }
   ],
   "source": [
    "location = data[\"state_r\"].value_counts()\n",
    "location.sort_values(ascending=True)"
   ]
  },
  {
   "cell_type": "markdown",
   "id": "fa35e4dd",
   "metadata": {},
   "source": [
    "**Dear Marketing team: the  less customer locations are Arizona, Nebraska, Washington, Arizona and Oregon**"
   ]
  },
  {
   "cell_type": "markdown",
   "id": "0ce80f43-4afa-43c7-a78a-c917444da4e0",
   "metadata": {},
   "source": [
    "### Exercise 2\n",
    "\n",
    "The sales team wants to know the total number of policies sold for each type of policy. Create a pandas Series object that contains the policy types and their total number of policies sold, and then retrieve the policy type with the highest number of policies sold."
   ]
  },
  {
   "cell_type": "markdown",
   "id": "a9f13997-1555-4f98-aca6-970fda1d2c3f",
   "metadata": {},
   "source": [
    "*Hint:*\n",
    "- *Using value_counts() method simplifies this analysis.*\n",
    "- *Futhermore, there is a method that returns the index of the maximum value in a column or row.*\n"
   ]
  },
  {
   "cell_type": "code",
   "execution_count": 20,
   "id": "c3aa94aa",
   "metadata": {},
   "outputs": [
    {
     "data": {
      "text/plain": [
       "Policy Type\n",
       "Personal Auto     780\n",
       "Corporate Auto    234\n",
       "Special Auto       57\n",
       "Name: count, dtype: int64"
      ]
     },
     "execution_count": 20,
     "metadata": {},
     "output_type": "execute_result"
    }
   ],
   "source": [
    "series_type=data[\"Policy Type\"].value_counts()\n",
    "series_type"
   ]
  },
  {
   "cell_type": "code",
   "execution_count": 28,
   "id": "86643f5c",
   "metadata": {},
   "outputs": [
    {
     "name": "stdout",
     "output_type": "stream",
     "text": [
      "Our most frequent policy is Personal Auto and the actual number of policies is 780\n"
     ]
    }
   ],
   "source": [
    "max_index_row = series_type.loc[series_type.idxmax()]\n",
    "print(f\"Our most frequent policy is {series_type.idxmax()} and the actual number of policies is {max_index_row}\")"
   ]
  },
  {
   "cell_type": "markdown",
   "id": "0b863fd3-bf91-4d5d-86eb-be29ed9f5b70",
   "metadata": {},
   "source": [
    "### Exercise 3\n",
    "\n",
    "The sales team wants to know if customers with Personal Auto have a lower income than those with Corporate Auto. How does the average income compare between the two policy types?"
   ]
  },
  {
   "cell_type": "markdown",
   "id": "b1386d75-2810-4aa1-93e0-9485aa12d552",
   "metadata": {},
   "source": [
    "- Use *loc* to create two dataframes: one containing only Personal Auto policies and one containing only Corporate Auto policies.\n",
    "- Calculate the average income for each policy.\n",
    "- Print the results."
   ]
  },
  {
   "cell_type": "code",
   "execution_count": 31,
   "id": "0c0563cf-6f8b-463d-a321-651a972f82e5",
   "metadata": {},
   "outputs": [
    {
     "data": {
      "text/html": [
       "<div>\n",
       "<style scoped>\n",
       "    .dataframe tbody tr th:only-of-type {\n",
       "        vertical-align: middle;\n",
       "    }\n",
       "\n",
       "    .dataframe tbody tr th {\n",
       "        vertical-align: top;\n",
       "    }\n",
       "\n",
       "    .dataframe thead th {\n",
       "        text-align: right;\n",
       "    }\n",
       "</style>\n",
       "<table border=\"1\" class=\"dataframe\">\n",
       "  <thead>\n",
       "    <tr style=\"text-align: right;\">\n",
       "      <th></th>\n",
       "      <th>income_r</th>\n",
       "    </tr>\n",
       "    <tr>\n",
       "      <th>Policy Type</th>\n",
       "      <th></th>\n",
       "    </tr>\n",
       "  </thead>\n",
       "  <tbody>\n",
       "    <tr>\n",
       "      <th>Corporate Auto</th>\n",
       "      <td>54108.005587</td>\n",
       "    </tr>\n",
       "    <tr>\n",
       "      <th>Personal Auto</th>\n",
       "      <td>50390.769882</td>\n",
       "    </tr>\n",
       "    <tr>\n",
       "      <th>Special Auto</th>\n",
       "      <td>53457.510204</td>\n",
       "    </tr>\n",
       "  </tbody>\n",
       "</table>\n",
       "</div>"
      ],
      "text/plain": [
       "                    income_r\n",
       "Policy Type                 \n",
       "Corporate Auto  54108.005587\n",
       "Personal Auto   50390.769882\n",
       "Special Auto    53457.510204"
      ]
     },
     "execution_count": 31,
     "metadata": {},
     "output_type": "execute_result"
    }
   ],
   "source": [
    "data[[\"Policy Type\", \"income_r\"]].groupby(\"Policy Type\").mean()"
   ]
  },
  {
   "cell_type": "markdown",
   "id": "4c92ab89",
   "metadata": {},
   "source": [
    "The average income is higher in Corporate Auto, followed by Special Auto and then Personal Auto"
   ]
  },
  {
   "cell_type": "markdown",
   "id": "80b16c27-f4a5-4727-a229-1f88671cf4e2",
   "metadata": {},
   "source": [
    "### Bonus: Exercise 4\n"
   ]
  },
  {
   "cell_type": "markdown",
   "id": "ac584986-299b-475f-ac2e-928c16c3f512",
   "metadata": {},
   "source": [
    "Your goal is to identify customers with a high policy claim amount.\n",
    "\n",
    "Instructions:\n",
    "\n",
    "- Review again the statistics for total claim amount to gain an understanding of the data.\n",
    "- To identify potential areas for improving customer retention and profitability, we want to focus on customers with a high policy claim amount. Consider customers with a high policy claim amount to be those in the top 25% of the total claim amount. Create a pandas DataFrame object that contains information about customers with a policy claim amount greater than the 75th percentile.\n",
    "- Use DataFrame methods to calculate summary statistics about the high policy claim amount data. "
   ]
  },
  {
   "cell_type": "markdown",
   "id": "4e3af5f1-6023-4b05-9c01-d05392daa650",
   "metadata": {},
   "source": [
    "*Note: When analyzing data, we often want to focus on certain groups of values to gain insights. Percentiles are a useful tool to help us define these groups. A percentile is a measure that tells us what percentage of values in a dataset are below a certain value. For example, the 75th percentile represents the value below which 75% of the data falls. Similarly, the 25th percentile represents the value below which 25% of the data falls. When we talk about the top 25%, we are referring to the values that fall above the 75th percentile, which represent the top quarter of the data. On the other hand, when we talk about the bottom 25%, we are referring to the values that fall below the 25th percentile, which represent the bottom quarter of the data. By focusing on these groups, we can identify patterns and trends that may be useful for making decisions and taking action.*\n",
    "\n",
    "*Hint: look for a method that gives you the percentile or quantile 0.75 and 0.25 for a Pandas Series.*"
   ]
  },
  {
   "cell_type": "markdown",
   "id": "2d234634-50bd-41e0-88f7-d5ba684455d1",
   "metadata": {},
   "source": [
    "*Hint 2: check `Boolean selection according to the values of a single column` in https://towardsdatascience.com/filtering-data-frames-in-pandas-b570b1f834b9*"
   ]
  },
  {
   "cell_type": "code",
   "execution_count": null,
   "id": "b731bca6-a760-4860-a27b-a33efa712ce0",
   "metadata": {},
   "outputs": [],
   "source": [
    "# Your code here"
   ]
  }
 ],
 "metadata": {
  "kernelspec": {
   "display_name": "Python 3 (ipykernel)",
   "language": "python",
   "name": "python3"
  },
  "language_info": {
   "codemirror_mode": {
    "name": "ipython",
    "version": 3
   },
   "file_extension": ".py",
   "mimetype": "text/x-python",
   "name": "python",
   "nbconvert_exporter": "python",
   "pygments_lexer": "ipython3",
   "version": "3.12.3"
  }
 },
 "nbformat": 4,
 "nbformat_minor": 5
}
